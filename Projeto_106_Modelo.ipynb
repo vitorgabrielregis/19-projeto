{
  "nbformat": 4,
  "nbformat_minor": 0,
  "metadata": {
    "colab": {
      "provenance": [],
      "include_colab_link": true
    },
    "kernelspec": {
      "name": "python3",
      "display_name": "Python 3"
    },
    "language_info": {
      "name": "python"
    }
  },
  "cells": [
    {
      "cell_type": "markdown",
      "metadata": {
        "id": "view-in-github",
        "colab_type": "text"
      },
      "source": [
        "<a href=\"https://colab.research.google.com/github/vitornine/19-projeto/blob/main/Projeto_106_Modelo.ipynb\" target=\"_parent\"><img src=\"https://colab.research.google.com/assets/colab-badge.svg\" alt=\"Open In Colab\"/></a>"
      ]
    },
    {
      "cell_type": "markdown",
      "source": [
        "###Crie uma lista chamada resultado com os seguintes elementos:\n",
        "* “Matemática”\n",
        "* 90\n",
        "* “Inglês”\n",
        "* 80\n",
        "* “História”\n",
        "* 75\n",
        "* “Artes”\n",
        "* 85\n"
      ],
      "metadata": {
        "id": "I1TXW93FEgNE"
      }
    },
    {
      "cell_type": "code",
      "source": [
        "result = result = [\"Matemática\",\"90\",\"Inglês\",\"80\",\"História\",\"75\",\"Artes\",\"85\"]\n",
        "result = result"
      ],
      "metadata": {
        "id": "3YRA8m_xE0bJ"
      },
      "execution_count": 15,
      "outputs": []
    },
    {
      "cell_type": "markdown",
      "source": [
        "###Use slice para imprimir apenas os nomes das matérias"
      ],
      "metadata": {
        "id": "NJAthvIsE4DG"
      }
    },
    {
      "cell_type": "code",
      "source": [
        "result[0:7:2]"
      ],
      "metadata": {
        "id": "Cwz4dTHbFBhb",
        "outputId": "c3e7c78f-9afa-4864-df57-43088173b2b8",
        "colab": {
          "base_uri": "https://localhost:8080/"
        }
      },
      "execution_count": 18,
      "outputs": [
        {
          "output_type": "execute_result",
          "data": {
            "text/plain": [
              "['Matemática', 'Inglês', 'História', 'Artes']"
            ]
          },
          "metadata": {},
          "execution_count": 18
        }
      ]
    },
    {
      "cell_type": "markdown",
      "source": [
        "###Use slice para imprimir apenas as notas"
      ],
      "metadata": {
        "id": "N7ZSuaJeE_I6"
      }
    },
    {
      "cell_type": "code",
      "source": [
        "result[1:8:2]"
      ],
      "metadata": {
        "id": "T21W2oLuFCOx",
        "outputId": "4acf5e3d-dc7e-4d45-9dad-966b005f9a2a",
        "colab": {
          "base_uri": "https://localhost:8080/"
        }
      },
      "execution_count": 35,
      "outputs": [
        {
          "output_type": "execute_result",
          "data": {
            "text/plain": [
              "['90', '80', '75', '85']"
            ]
          },
          "metadata": {},
          "execution_count": 35
        }
      ]
    }
  ]
}